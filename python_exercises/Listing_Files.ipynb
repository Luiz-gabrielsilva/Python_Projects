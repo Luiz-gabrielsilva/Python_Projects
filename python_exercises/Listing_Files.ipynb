{
 "cells": [
  {
   "cell_type": "markdown",
   "id": "af266e79",
   "metadata": {},
   "source": [
    "# Imports"
   ]
  },
  {
   "cell_type": "code",
   "execution_count": null,
   "id": "c6aecd23",
   "metadata": {},
   "outputs": [],
   "source": [
    "import os"
   ]
  },
  {
   "cell_type": "markdown",
   "id": "01bc6127",
   "metadata": {},
   "source": [
    "# Functions"
   ]
  },
  {
   "cell_type": "code",
   "execution_count": null,
   "id": "600ff2ec",
   "metadata": {},
   "outputs": [],
   "source": [
    "# Function to calculate file size in MB\n",
    "def file_size_mb(filename):\n",
    "    size_bytes = os.path.getsize(filename)\n",
    "    size_mb = size_bytes / (1024 * 1024)\n",
    "    return size_mb\n",
    "\n",
    "# Function to recursively list files and directories up to a certain depth\n",
    "def list_files_and_directories(path, depth=1, indent_size=0):\n",
    "    \n",
    "    # List all files and directories in the given path\n",
    "    entries = [os.path.join(path, entry) for entry in os.listdir(path) if not entry.startswith('.')]\n",
    "    \n",
    "    for entry in entries:\n",
    "        # If entry is a directory\n",
    "        if os.path.isdir(entry):\n",
    "            print('-' * indent_size, f'Directory: {entry}')\n",
    "            print()\n",
    "            # If depth is greater than 1, recursively call the function for subdirectories\n",
    "            if depth > 1:\n",
    "                list_files_and_directories(entry, depth - 1, indent_size + 1)\n",
    "                    \n",
    "        # If entry is a file\n",
    "        elif os.path.isfile(entry):\n",
    "            print('-' * indent_size, f'File: {entry}')\n",
    "            print(f'This file size is {file_size_mb(entry):.2f} MB')\n",
    "            print()\n",
    "        else:\n",
    "            print('-' * indent_size, f'This entry is neither a file nor a directory: {entry}')\n",
    "            print()"
   ]
  },
  {
   "cell_type": "code",
   "execution_count": null,
   "id": "f60997ae",
   "metadata": {},
   "outputs": [],
   "source": [
    "# Get the user's home directory\n",
    "home = os.environ.get('HOME') or os.environ.get('USERPROFILE')\n",
    "# Define the path to the Downloads folder\n",
    "path = os.path.join(home, 'Downloads')\n",
    "\n",
    "print(f'Main path: {path}')"
   ]
  },
  {
   "cell_type": "code",
   "execution_count": null,
   "id": "7a9dee55",
   "metadata": {},
   "outputs": [],
   "source": [
    "# Call the function to list files and directories up to a depth of 2\n",
    "list_files_and_directories(path, depth=2)"
   ]
  }
 ],
 "metadata": {
  "kernelspec": {
   "display_name": "Python 3 (ipykernel)",
   "language": "python",
   "name": "python3"
  },
  "language_info": {
   "codemirror_mode": {
    "name": "ipython",
    "version": 3
   },
   "file_extension": ".py",
   "mimetype": "text/x-python",
   "name": "python",
   "nbconvert_exporter": "python",
   "pygments_lexer": "ipython3",
   "version": "3.11.5"
  }
 },
 "nbformat": 4,
 "nbformat_minor": 5
}
