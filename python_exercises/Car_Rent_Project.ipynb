{
 "cells": [
  {
   "cell_type": "markdown",
   "id": "137fc3ec",
   "metadata": {},
   "source": [
    "# Aluguel de Carros"
   ]
  },
  {
   "cell_type": "markdown",
   "id": "df05e787",
   "metadata": {},
   "source": [
    "O objetivo desse 'projeto' é criar um sistema para aluguel de carros utilizando apenas python básico."
   ]
  },
  {
   "cell_type": "code",
   "execution_count": null,
   "id": "f2492d03",
   "metadata": {},
   "outputs": [],
   "source": [
    "import platform\n",
    "import os\n",
    "from IPython.display import clear_output\n",
    "import time"
   ]
  },
  {
   "cell_type": "code",
   "execution_count": null,
   "id": "d6d8fb0d",
   "metadata": {},
   "outputs": [],
   "source": [
    "def LimparTela():\n",
    "    clear_output(wait=True)\n",
    "    time.sleep(1)\n",
    "\n",
    "def mostrar_portfolio(carros):\n",
    "    LimparTela()\n",
    "    print('Você escolheu a opção mostrar portfólio')\n",
    "    print('O atual portfólio é: ')\n",
    "    for k, c in enumerate(carros):\n",
    "        print(f'{k} - {c}')\n",
    "        \n",
    "def alugar_carro(carros, alugueis):\n",
    "    LimparTela()\n",
    "    auxiliar = dict()\n",
    "    \n",
    "    mostrar_portfolio(carros)\n",
    "        \n",
    "    print()\n",
    "    alugado = int(input('Digite o número do carro desejado: '))\n",
    "    \n",
    "    while not (7 >= alugado >= 0):\n",
    "        alugado = int(input('Digite o número do carro desejado: '))\n",
    "    \n",
    "    print()\n",
    "    \n",
    "    dias_alugados = int(input('Qual o total de dias que deseja alugar o carro? '))\n",
    "\n",
    "    while dias_alugados <= 0:\n",
    "        dias_alugados = int(input('Qual o total de dias que deseja alugar o carro? '))\n",
    "    print()\n",
    "    \n",
    "    valor = [num for num in carros[alugado] if num.isnumeric()]\n",
    "    valor = int(''.join(valor))\n",
    "    \n",
    "    if alugado == 3:\n",
    "        valor = 85\n",
    "        \n",
    "    print(f'A sua escolha foi o {carros[alugado]} por um total de {dias_alugados} dias.')\n",
    "    print(f'O total do aluguel é de {valor * dias_alugados} reais')\n",
    "    \n",
    "    auxiliar['nome'] = carros[alugado]\n",
    "    auxiliar['valor'] = valor * dias_alugados\n",
    "    carros.pop(alugado)\n",
    "    alugueis.append(auxiliar)\n",
    "    \n",
    "def devolver_carro(carros, alugueis):\n",
    "    LimparTela()\n",
    "    while True:\n",
    "        if len(alugueis) == 0:\n",
    "            print('Obrigado por tentar devolução, não há carros a devolver agora')\n",
    "            break\n",
    "        print(f'O portfólio de carros a serem devolvidos é: ')\n",
    "        for k, c in enumerate(alugueis):\n",
    "            print(f'{k} - {c[\"nome\"]} - {c[\"valor\"]} reais')\n",
    "\n",
    "        opcao = int(input('Qual sua opção para devolução? '))\n",
    "        while (opcao < 0) or (opcao > (len(alugueis) - 1)):\n",
    "            opcao = int(input('Qual sua opção para devolução? '))\n",
    "            \n",
    "        print(f'Sua opção para devolução foi {alugueis[opcao][\"nome\"]} pelo valor de {alugueis[opcao][\"valor\"]} reais.')\n",
    "\n",
    "        confirma = str(input('Você confirma essa devolução e o pagamento[S/N]? ')).strip().upper()\n",
    "        while confirma not in ('SIM', 'NAO'):\n",
    "            confirma = str(input('Você confirma essa devolução e o pagamento[S/N]? ')).strip().upper()\n",
    "        \n",
    "        if confirma != 'SIM':\n",
    "            continue\n",
    "        else:\n",
    "            carros.append(alugueis[opcao]['nome'])\n",
    "            alugueis.pop(opcao)\n",
    "        \n",
    "        continuar = str(input('Deseja devolver mais carros [S/N]? ')).strip().upper()\n",
    "        while continuar not in ('SIM', 'NAO'):\n",
    "            continuar = str(input('Deseja devolver mais carros [S/N]? ')).strip().upper()\n",
    "            \n",
    "        if continuar == 'NAO':\n",
    "            break"
   ]
  },
  {
   "cell_type": "code",
   "execution_count": null,
   "id": "e776ef71",
   "metadata": {
    "scrolled": true
   },
   "outputs": [],
   "source": [
    "print('-=-' * 15)\n",
    "print('Bem vindo à locadora de carros!')\n",
    "print('-=-' * 15)"
   ]
  },
  {
   "cell_type": "code",
   "execution_count": null,
   "id": "d294fffe",
   "metadata": {
    "scrolled": false
   },
   "outputs": [],
   "source": [
    "carros = ['Chevrolet Tracker - R$ 120/dia', 'Chevrolet Onix - R$ 90/dia', 'Chevrolet Spin - R$ 150/dia',\n",
    "               'Hyundai HB20 - R$ 85/dia', 'Hyundai Tucson - R$ 120/dia', 'Fiat Uno - R$ 60/dia',\n",
    "               'Fiat Mobi - R$ 70/dia', 'Fiat Pulse - R$ 130/dia']\n",
    "\n",
    "alugueis = list()\n",
    "\n",
    "while True:\n",
    "    LimparTela()\n",
    "    print('''Escolha uma dentre as seguintes opções:  \n",
    "    [0] - Mostrar Portfólio\n",
    "    [1] - Alugar um carro\n",
    "    [2] - Devolver um carro\n",
    "    [3] - Deixar o programa''')\n",
    "    \n",
    "    opcao = int(input('Qual opção será? '))\n",
    "    while opcao not in (0,1,2,3):\n",
    "        opcao = int(input('Escolha uma opção válida: '))\n",
    "    print()\n",
    "    if opcao == 0:\n",
    "        mostrar_portfolio(carros)\n",
    "    elif opcao == 1:\n",
    "        alugar_carro(carros, alugueis)\n",
    "    elif opcao == 2:\n",
    "        devolver_carro(carros, alugueis)\n",
    "    else:\n",
    "        break\n",
    "        \n",
    "    continuar = str(input('Você deseja continuar no programa [SIM/NAO]? ')).strip().upper()\n",
    "    while continuar not in ('SIM', 'NAO'):\n",
    "        continuar = str(input('Você deseja continuar no programa [SIM/NAO]? ')).strip().upper()\n",
    "    if continuar == 'NAO':\n",
    "        break"
   ]
  }
 ],
 "metadata": {
  "kernelspec": {
   "display_name": "Python 3 (ipykernel)",
   "language": "python",
   "name": "python3"
  },
  "language_info": {
   "codemirror_mode": {
    "name": "ipython",
    "version": 3
   },
   "file_extension": ".py",
   "mimetype": "text/x-python",
   "name": "python",
   "nbconvert_exporter": "python",
   "pygments_lexer": "ipython3",
   "version": "3.10.9"
  },
  "varInspector": {
   "cols": {
    "lenName": 16,
    "lenType": 16,
    "lenVar": 40
   },
   "kernels_config": {
    "python": {
     "delete_cmd_postfix": "",
     "delete_cmd_prefix": "del ",
     "library": "var_list.py",
     "varRefreshCmd": "print(var_dic_list())"
    },
    "r": {
     "delete_cmd_postfix": ") ",
     "delete_cmd_prefix": "rm(",
     "library": "var_list.r",
     "varRefreshCmd": "cat(var_dic_list()) "
    }
   },
   "types_to_exclude": [
    "module",
    "function",
    "builtin_function_or_method",
    "instance",
    "_Feature"
   ],
   "window_display": false
  }
 },
 "nbformat": 4,
 "nbformat_minor": 5
}
