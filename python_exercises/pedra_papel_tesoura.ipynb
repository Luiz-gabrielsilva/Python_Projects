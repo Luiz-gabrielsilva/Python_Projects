{
 "cells": [
  {
   "cell_type": "markdown",
   "id": "2ae9fc2c",
   "metadata": {},
   "source": [
    "# Objetivo"
   ]
  },
  {
   "cell_type": "markdown",
   "id": "4753494b",
   "metadata": {},
   "source": [
    "Criar um programa de pedra, papel e tesoura utilizando apenas Python Básico."
   ]
  },
  {
   "cell_type": "markdown",
   "id": "2db22de4",
   "metadata": {},
   "source": [
    "## Bibliotecas/Mód que foram utilizadas"
   ]
  },
  {
   "cell_type": "code",
   "execution_count": null,
   "id": "cc9d7965",
   "metadata": {},
   "outputs": [],
   "source": [
    "from random import randint\n",
    "from IPython.display import clear_output\n",
    "import time"
   ]
  },
  {
   "cell_type": "markdown",
   "id": "497b1832",
   "metadata": {},
   "source": [
    "## Funções Criadas"
   ]
  },
  {
   "cell_type": "code",
   "execution_count": null,
   "id": "cabf2dce",
   "metadata": {},
   "outputs": [],
   "source": [
    "def limpaTela():\n",
    "    clear_output(wait=False)\n",
    "    time.sleep(1)\n",
    "\n",
    "def score(placar, computer_score, player_score):\n",
    "    \n",
    "    if placar == 'computer':\n",
    "        computer_score += 1\n",
    "    elif placar == 'player':\n",
    "        player_score += 1\n",
    "    else:\n",
    "        computer_score, player_score = computer_score, player_score\n",
    "        \n",
    "    return computer_score, player_score\n",
    "\n",
    "    \n",
    "def resultado_partida(computer, player):\n",
    "    if player == computer:\n",
    "        return None\n",
    "    elif player == 0 and computer == 1:\n",
    "        return 'computer'\n",
    "    elif player == 1 and computer == 2:\n",
    "        return 'computer'\n",
    "    elif player == 2 and computer == 0:\n",
    "        return 'computer'\n",
    "    elif player == 0 and computer == 2:\n",
    "        return 'player'\n",
    "    elif player == 1 and computer == 0:\n",
    "        return 'player'\n",
    "    else:\n",
    "        return 'player'\n",
    "        \n",
    "def welcome():\n",
    "    print('-' * 50)\n",
    "    print('Bem Vindo ao jogo de pedra, papel e tesoura'.center(50))\n",
    "    print('-' * 50)\n",
    "\n",
    "    print(\"\"\"Vamos iniciar o jogo, empates não serão computados como pontos válidos para nenhum dos jogadores.\n",
    "    Escolha a sua opção:\n",
    "    [0] - Pedra\n",
    "    [1] - Papel\n",
    "    [2] - Tesoura\n",
    "    \"\"\")\n",
    "\n",
    "def choices(computer, player):\n",
    "    escolhas = ('Pedra', 'Papel', 'Tesoura')\n",
    "    \n",
    "    print(f'Você escolheu {escolhas[player]} e o computador escolheu {escolhas[computer]}')\n",
    "    \n",
    "    \n",
    "computer_score = player_score = 0    "
   ]
  },
  {
   "cell_type": "markdown",
   "id": "4798da69",
   "metadata": {},
   "source": [
    "## Corpo do Projeto"
   ]
  },
  {
   "cell_type": "code",
   "execution_count": null,
   "id": "a52ad90f",
   "metadata": {
    "scrolled": true
   },
   "outputs": [],
   "source": [
    "while True:\n",
    "    limpaTela()\n",
    "    welcome()\n",
    "    \n",
    "    print()\n",
    "    \n",
    "    player = int(input(\"Escolha sua opção de jogada: \"))\n",
    "    while player not in range(3):\n",
    "        player = int(input(\"Escolha uma opção válida para jogar: \"))\n",
    "\n",
    "    computer = randint(0,2)\n",
    "    \n",
    "    print()\n",
    "    \n",
    "    choices(computer, player)\n",
    "    \n",
    "    placar = resultado_partida(computer, player)\n",
    "    \n",
    "    computer_score, player_score = score(placar, computer_score, player_score)\n",
    "    \n",
    "    print(\"O placar é o seguinte:\")\n",
    "    print(f'Computador: {computer_score} pontos')\n",
    "    print(f'Jogador: {player_score} pontos')\n",
    "\n",
    "    continuar = str(input(\"Gostaria de continuar o jogo? [S/N]: \")).strip().upper()\n",
    "    if continuar == 'N':\n",
    "        break"
   ]
  }
 ],
 "metadata": {
  "kernelspec": {
   "display_name": "Python 3 (ipykernel)",
   "language": "python",
   "name": "python3"
  },
  "language_info": {
   "codemirror_mode": {
    "name": "ipython",
    "version": 3
   },
   "file_extension": ".py",
   "mimetype": "text/x-python",
   "name": "python",
   "nbconvert_exporter": "python",
   "pygments_lexer": "ipython3",
   "version": "3.10.9"
  }
 },
 "nbformat": 4,
 "nbformat_minor": 5
}
