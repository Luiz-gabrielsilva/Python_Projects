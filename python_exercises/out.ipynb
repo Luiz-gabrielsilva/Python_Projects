{
 "cells": [
  {
   "cell_type": "markdown",
   "id": "3a73d2d4",
   "metadata": {},
   "source": [
    "# Objetivo"
   ]
  },
  {
   "cell_type": "markdown",
   "id": "2a39a4dc",
   "metadata": {},
   "source": [
    "O objetivo deste projeto é gerar um código Python que remova os arquivos de dentro de seus diretórios atuais. Esse projeto pode ser considerado uma extensão do in.py, disponível aqui também. "
   ]
  },
  {
   "cell_type": "code",
   "execution_count": 1,
   "id": "88f0596a",
   "metadata": {},
   "outputs": [],
   "source": [
    "import os"
   ]
  },
  {
   "cell_type": "code",
   "execution_count": 2,
   "id": "394c3805",
   "metadata": {},
   "outputs": [],
   "source": [
    "cwd = os.getcwd()"
   ]
  },
  {
   "cell_type": "code",
   "execution_count": 3,
   "id": "3631c00d",
   "metadata": {},
   "outputs": [],
   "source": [
    "dir_list = os.listdir()"
   ]
  },
  {
   "cell_type": "markdown",
   "id": "75b2b140",
   "metadata": {},
   "source": [
    "<b><i>Agora preciso assegurar-me de que estou alterando apenas diretórios, pois não devo alterar arquivos solos.</i></b>"
   ]
  },
  {
   "cell_type": "code",
   "execution_count": 4,
   "id": "1f706498",
   "metadata": {},
   "outputs": [],
   "source": [
    "folders = [j for j in dir_list if os.path.isdir(j)]"
   ]
  },
  {
   "cell_type": "markdown",
   "id": "b3ecf11b",
   "metadata": {},
   "source": [
    "<b><i>Agora preciso entrar dentro de cada pasta (iterar folders) e remover os arquivos de dentro delas.</i></b>"
   ]
  },
  {
   "cell_type": "code",
   "execution_count": 9,
   "id": "71e399ba",
   "metadata": {},
   "outputs": [],
   "source": [
    "for folder in folders:\n",
    "    \n",
    "    ##definindo o caminho do diretório\n",
    "    folder_cwd = os.path.join(cwd, folder)\n",
    "    \n",
    "    ##listando os arquivos de cada diretório\n",
    "    files = os.listdir(folder_cwd)\n",
    "    \n",
    "    \n",
    "    ##acessando cada arquivo do diretório e mudando o local deles\n",
    "    for file in files:\n",
    "        old_path = os.path.join(folder_cwd, file)\n",
    "        new_path = os.path.join(cwd, file)\n",
    "        \n",
    "        os.replace(old_path, new_path)\n",
    "   \n",
    "    ##apagando cada diretório após esvaziá-lo \n",
    "    os.rmdir(folder_cwd)"
   ]
  }
 ],
 "metadata": {
  "kernelspec": {
   "display_name": "Python 3 (ipykernel)",
   "language": "python",
   "name": "python3"
  },
  "language_info": {
   "codemirror_mode": {
    "name": "ipython",
    "version": 3
   },
   "file_extension": ".py",
   "mimetype": "text/x-python",
   "name": "python",
   "nbconvert_exporter": "python",
   "pygments_lexer": "ipython3",
   "version": "3.11.5"
  }
 },
 "nbformat": 4,
 "nbformat_minor": 5
}
