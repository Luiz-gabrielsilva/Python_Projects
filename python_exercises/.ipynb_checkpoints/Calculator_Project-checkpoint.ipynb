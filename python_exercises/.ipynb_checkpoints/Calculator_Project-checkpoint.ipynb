{
 "cells": [
  {
   "cell_type": "markdown",
   "id": "c0c74cc5",
   "metadata": {},
   "source": [
    "# Cabeçalho\n",
    "Do que se trata o projeto? Consiste na criação de uma calculadora utilizando apenas python básico <br>\n",
    "Quais funções a calculadora deve executar? Adir, subtrair, multiplicar, exponenciar, dividir, dividir por inteiro, resto da divisão <br>\n"
   ]
  },
  {
   "cell_type": "code",
   "execution_count": null,
   "id": "a654d0c7",
   "metadata": {},
   "outputs": [],
   "source": [
    "print('-=-' * 35 )\n",
    "print('Olá, seja muito bem-vindo(a) ao Calculator. A mais nova e melhor calculadora em Python básico'.upper())\n",
    "print('-=-' * 35)\n",
    "print()\n",
    "print('\\033[31mPara dar início ao programa, primeiro escolha 2 números de sua preferência e uma função a ser realizada com eles\\033[m]')\n",
    "\n",
    "num_1 = float(input('Digite um número: '))\n",
    "num_2 = float(input('Digite um outro número: '))"
   ]
  },
  {
   "cell_type": "code",
   "execution_count": null,
   "id": "c0786358",
   "metadata": {},
   "outputs": [],
   "source": [
    "def calculadora(num_1, num_2, op):\n",
    "    operacao = op\n",
    "    valor_2 = num_2\n",
    "    valor_1 = num_1\n",
    "    if operacao == 1:\n",
    "        print(f'A soma dos valores {valor_1} e {valor_2} é igual a {valor_1 + valor_2}')\n",
    "    elif operacao == 2:\n",
    "        print(f'A subtração dos valores {valor_1} e {valor_2} é igual a {valor_1 - valor_2}')\n",
    "    elif operacao == 3:\n",
    "        print(f'O produto dos valores {valor_1} e {valor_2} é igual a {valor_1 * valor_2}')\n",
    "    elif operacao == 4:\n",
    "        print(f'A divisão dos valores {valor_1} e {valor_2} é igual a {valor_1 / valor_2}')\n",
    "    elif operacao == 5:\n",
    "        print(f'A exponenciação de {valor_1} a {valor_2} é {valor_1 ** valor_2}')\n",
    "    elif operacao == 6:\n",
    "        print(f'A divisão inteira dos valores {valor_1} e {valor_2} é igual a {valor_1 // valor_2}')\n",
    "    elif operacao == 7:\n",
    "        print(f'O resto da divisão dos valores {valor_1} e {valor_2} é igual a {valor_1 % valor_2}')\n",
    "    else:\n",
    "        print('Números alterados com sucesso!')\n",
    "\n",
    "        "
   ]
  },
  {
   "cell_type": "code",
   "execution_count": null,
   "id": "6ac08fb4",
   "metadata": {},
   "outputs": [],
   "source": [
    "while True:\n",
    "    print('''Agora escolha uma dentre as operações abaixo: \n",
    "(1) Somar\n",
    "(2) Subtrair \n",
    "(3) Multiplicar\n",
    "(4) Dividir \n",
    "(5) Exponenciar \n",
    "(6) Divisão Inteira\n",
    "(7) Resto da Divisão\n",
    "(8) Trocar os números\n",
    "''')\n",
    "    \n",
    "    op = float(input('Qual operação será realizada? '))\n",
    "    print()\n",
    "\n",
    "    while not (8 >= op >= 1):\n",
    "        op = float(input('Digite um valor válido para operação: '))\n",
    "    \n",
    "    if op == 8:\n",
    "        num_1 = float(input('Digite um número: '))\n",
    "        num_2 = float(input('Digite um outro número: '))\n",
    "\n",
    "    while op in (4, 6, 7) and num_2 == 0:\n",
    "        print('Esse valor não é aceito para tal operação')\n",
    "        num_2 = float(input('Escolha outro valor para o segundo número: '))\n",
    "\n",
    "    calculadora(num_1, num_2, op)\n",
    "\n",
    "    continua = str(input('Você deseja continuar com o Calculator[S/N]? ')).strip().upper()[0]\n",
    "    while continua not in (\"SN\"):\n",
    "        continua = str(input('Você deseja continuar com o Calculator[S/N]? ')).strip().upper()[0]\n",
    "\n",
    "    if continua == 'N':\n",
    "        break"
   ]
  }
 ],
 "metadata": {
  "kernelspec": {
   "display_name": "Python 3 (ipykernel)",
   "language": "python",
   "name": "python3"
  },
  "language_info": {
   "codemirror_mode": {
    "name": "ipython",
    "version": 3
   },
   "file_extension": ".py",
   "mimetype": "text/x-python",
   "name": "python",
   "nbconvert_exporter": "python",
   "pygments_lexer": "ipython3",
   "version": "3.10.9"
  },
  "varInspector": {
   "cols": {
    "lenName": 16,
    "lenType": 16,
    "lenVar": 40
   },
   "kernels_config": {
    "python": {
     "delete_cmd_postfix": "",
     "delete_cmd_prefix": "del ",
     "library": "var_list.py",
     "varRefreshCmd": "print(var_dic_list())"
    },
    "r": {
     "delete_cmd_postfix": ") ",
     "delete_cmd_prefix": "rm(",
     "library": "var_list.r",
     "varRefreshCmd": "cat(var_dic_list()) "
    }
   },
   "types_to_exclude": [
    "module",
    "function",
    "builtin_function_or_method",
    "instance",
    "_Feature"
   ],
   "window_display": false
  }
 },
 "nbformat": 4,
 "nbformat_minor": 5
}
