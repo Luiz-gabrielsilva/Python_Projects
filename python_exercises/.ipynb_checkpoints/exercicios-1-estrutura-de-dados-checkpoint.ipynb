{
 "cells": [
  {
   "cell_type": "markdown",
   "metadata": {},
   "source": [
    "<img src=\"https://asimov.academy/wp-content/uploads/2021/01/logo.png\" width=\"200\"/>\n",
    "_____________________________________________\n",
    "\n",
    "## Exercícios #1 - Estruturas de dados\n"
   ]
  },
  {
   "cell_type": "markdown",
   "metadata": {
    "heading_collapsed": true
   },
   "source": [
    "### Exercício 1\n",
    "Utilizando o built-in method input(), crie um programa que receba a altura e o peso de uma pessoa e imprima na tela o IMC da mesma."
   ]
  },
  {
   "cell_type": "code",
   "execution_count": 3,
   "metadata": {
    "hidden": true
   },
   "outputs": [
    {
     "name": "stdout",
     "output_type": "stream",
     "text": [
      "Qual o seu peso em quilos? 75\n",
      "Qual a sua altura em metros? 1.75\n",
      "O seu imc é 24.49\n"
     ]
    }
   ],
   "source": [
    "peso = float(input(\"Qual o seu peso em quilos? \"))\n",
    "altura = float(input('Qual a sua altura em metros? '))\n",
    "imc = peso / (altura ** 2)\n",
    "\n",
    "print(f\"O seu imc é {imc:.2f}\")\n"
   ]
  },
  {
   "cell_type": "markdown",
   "metadata": {
    "heading_collapsed": true
   },
   "source": [
    "### Exercício 2 \n",
    "Escreva um programa que pergunte o nome completo do usuário e cumprimente o mesmo pelo primeiro nome."
   ]
  },
  {
   "cell_type": "code",
   "execution_count": 5,
   "metadata": {
    "hidden": true
   },
   "outputs": [
    {
     "name": "stdout",
     "output_type": "stream",
     "text": [
      "Qual o seu nome completo? Luiz Gabriel da Silva Santana\n",
      "É um prazer lhe conhecer, Luiz\n"
     ]
    }
   ],
   "source": [
    "nome = input('Qual o seu nome completo? ')\n",
    "print(f'É um prazer lhe conhecer, {nome.split()[0]}')"
   ]
  },
  {
   "cell_type": "markdown",
   "metadata": {
    "heading_collapsed": true
   },
   "source": [
    "### Exercício 3\n",
    "Desenhe um código que extraia o domínio de um e-mail informado."
   ]
  },
  {
   "cell_type": "code",
   "execution_count": 14,
   "metadata": {
    "hidden": true
   },
   "outputs": [
    {
     "name": "stdout",
     "output_type": "stream",
     "text": [
      "Informe um endereço de e-mail: luizbiel.silva@gmail.com\n",
      "O domínio do e-mail informado é gmail.com\n"
     ]
    }
   ],
   "source": [
    "email = input('Informe um endereço de e-mail: ').strip()\n",
    "dominio = email.split('@')[-1]\n",
    "print(f'O domínio do e-mail informado é {dominio}')"
   ]
  },
  {
   "cell_type": "markdown",
   "metadata": {
    "heading_collapsed": true
   },
   "source": [
    "### Exercício 4 \n",
    "Faça um programa para uma loja de tintas. A pessoa informa a área em m2 que deseja pintar, e o script calculará a quantidade de latas de tinta que a pessoa deve comprar e o valor. Considere que cada litro de tinta pinta 3m2, que cada lata contém 18L e que custa R$ 80."
   ]
  },
  {
   "cell_type": "markdown",
   "metadata": {
    "hidden": true
   },
   "source": [
    "<b><i> Resolução sem uso de if/else</i></b>"
   ]
  },
  {
   "cell_type": "code",
   "execution_count": 11,
   "metadata": {
    "hidden": true
   },
   "outputs": [
    {
     "name": "stdout",
     "output_type": "stream",
     "text": [
      "Qual a área que deseja pintar em metros²? 51\n",
      "Para pintar uma área de 51.00 m², é preciso comprar 0.94 latas de tinta, pois será preciso usar 17.00 litros de tinta\n",
      "O valor total de sua aquisição custa 75.56 reais\n"
     ]
    }
   ],
   "source": [
    "area = float(input(\"Qual a área que deseja pintar em metros²? \"))\n",
    "litros = area / 3\n",
    "latas = litros / 18\n",
    "valor = latas * 80\n",
    "\n",
    "print(f'Para pintar uma área de {area:.2f} m², é preciso comprar {latas:.2f} latas de tinta, pois será preciso usar {litros:.2f} litros de tinta')\n",
    "print(f'O valor total de sua aquisição custa {valor:.2f} reais')"
   ]
  },
  {
   "cell_type": "markdown",
   "metadata": {
    "hidden": true
   },
   "source": [
    "<b><i>Resolução com uso de Condicionais</i></b>"
   ]
  },
  {
   "cell_type": "code",
   "execution_count": 13,
   "metadata": {
    "hidden": true
   },
   "outputs": [
    {
     "name": "stdout",
     "output_type": "stream",
     "text": [
      "Qual a área a ser pintada em m²? 57\n",
      "Para pintar uma área de 57.0m², é preciso comprar 2 latas de tinta, pois será preciso usar 19.00 litros de tinta\n",
      "O valor total para comprar essas latas de tinta é de 160 reais\n"
     ]
    }
   ],
   "source": [
    "area = float(input('Qual a área a ser pintada em m²? '))\n",
    "litros = area / 3\n",
    "latas = litros / 18\n",
    "\n",
    "if latas < 1:\n",
    "    latas = 1\n",
    "if (latas % int(latas)) != 0:\n",
    "    latas = int(latas) + 1\n",
    "    \n",
    "print(f'Para pintar uma área de {area}m², é preciso comprar {latas} latas de tinta, pois será preciso usar {litros:.2f} litros de tinta')\n",
    "print(f'O valor total para comprar essas latas de tinta é de {latas * 80} reais')"
   ]
  },
  {
   "cell_type": "markdown",
   "metadata": {
    "heading_collapsed": true
   },
   "source": [
    "### Exercício 5\n",
    "Faça um Programa que pergunte quanto você ganha por hora e o número de horas trabalhadas no mês. Calcule e mostre o total do seu salário no referido mês, sabendo-se que são descontados 11% para o Imposto de Renda, 8% para o INSS e 5% para o sindicato, faça um programa que nos dê:\n",
    "1. Salário bruto.\n",
    "2. Quanto pagou ao INSS.\n",
    "3. Quanto pagou ao sindicato.\n",
    "4. O salário líquido."
   ]
  },
  {
   "cell_type": "code",
   "execution_count": 7,
   "metadata": {
    "hidden": true
   },
   "outputs": [
    {
     "name": "stdout",
     "output_type": "stream",
     "text": [
      "Qual o seu salário em reais? 1329.89\n",
      "O seu salário bruto (sem descontos) é de 1329.89 reais\n",
      "O seu salário líquido (com descontos) é de 1010.72 reais\n",
      "Do seu salário bruto são deduzidos 106.39 reais para o inss, 66.49 reais para o sindicato e 146.29 reais para o imposto de renda\n"
     ]
    }
   ],
   "source": [
    "salario = float(input('Qual o seu salário em reais? '))\n",
    "inss = (8 * salario) / 100\n",
    "imposto_de_renda = (11 * salario) / 100\n",
    "sindicato = (5 * salario) / 100\n",
    "liquido = salario - (inss + imposto_de_renda + sindicato)\n",
    "print(f'O seu salário bruto (sem descontos) é de {salario} reais')\n",
    "print(f'O seu salário líquido (com descontos) é de {liquido:.2f} reais')\n",
    "print(f'Do seu salário bruto são deduzidos {inss:.2f} reais para o inss, {sindicato:.2f} reais para o sindicato e {imposto_de_renda:.2f} reais para o imposto de renda')"
   ]
  }
 ],
 "metadata": {
  "kernelspec": {
   "display_name": "Python 3 (ipykernel)",
   "language": "python",
   "name": "python3"
  },
  "language_info": {
   "codemirror_mode": {
    "name": "ipython",
    "version": 3
   },
   "file_extension": ".py",
   "mimetype": "text/x-python",
   "name": "python",
   "nbconvert_exporter": "python",
   "pygments_lexer": "ipython3",
   "version": "3.10.9"
  }
 },
 "nbformat": 4,
 "nbformat_minor": 4
}
