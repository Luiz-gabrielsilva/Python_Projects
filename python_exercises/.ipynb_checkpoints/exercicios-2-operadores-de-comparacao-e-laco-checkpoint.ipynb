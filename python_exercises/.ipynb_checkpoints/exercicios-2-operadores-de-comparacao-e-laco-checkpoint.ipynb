{
 "cells": [
  {
   "cell_type": "markdown",
   "metadata": {},
   "source": [
    "<img src=\"https://asimov.academy/wp-content/uploads/2021/01/logo.png\" width=\"200\"/>\n",
    "_____________________________________________\n",
    "\n",
    "## Exercícios #2 - Operadores de comparação e laços\n"
   ]
  },
  {
   "cell_type": "markdown",
   "metadata": {
    "heading_collapsed": true
   },
   "source": [
    "### Exercício 1\n",
    "Faça um programa para a leitura de duas notas parciais de um aluno. O programa deve calcular a média alcançada por aluno e apresentar:\n",
    "- A mensagem \"Aprovado\", se a média alcançada for maior ou igual a 7;\n",
    "- A mensagem \"Reprovado\", se a média for menor do que 7;\n",
    "- A mensagem \"Aprovado com Distinção\", se a média for igual a 10."
   ]
  },
  {
   "cell_type": "code",
   "execution_count": 16,
   "metadata": {
    "hidden": true
   },
   "outputs": [
    {
     "name": "stdout",
     "output_type": "stream",
     "text": [
      "Qual foi a sua primeira nota? 6\n",
      "Qual foi a sua segunda nota? 11\n",
      "Qual foi a sua primeira nota? 6\n",
      "Qual foi a sua segunda nota? -1\n",
      "Qual foi a sua primeira nota? -1\n",
      "Qual foi a sua segunda nota? 6\n",
      "Qual foi a sua primeira nota? 0\n",
      "Qual foi a sua segunda nota? 10\n",
      "Reprovado\n"
     ]
    }
   ],
   "source": [
    "nota_1 = float(input('Qual foi a sua primeira nota? '))\n",
    "nota_2 = float(input('Qual foi a sua segunda nota? '))\n",
    "\n",
    "while ((nota_1 > 10) or (nota_1 < 0)) or ((nota_2 > 10) or (nota_2 < 0)):\n",
    "    nota_1 = float(input('Qual foi a sua primeira nota? '))\n",
    "    nota_2 = float(input('Qual foi a sua segunda nota? '))\n",
    "\n",
    "mean = (nota_1 + nota_2) / 2\n",
    "\n",
    "if mean < 7:\n",
    "    print('Reprovado')\n",
    "elif 7 >= mean < 10:\n",
    "    print('Aprovado')\n",
    "else:\n",
    "    print('Aprovado com Distinção')\n",
    "\n",
    "# Um outro jeito de escrever o laço while    \n",
    "#     nota_1 = float(input('Qual foi a sua primeira nota? '))\n",
    "# while (nota_1 > 10) or (nota_1 < 0):\n",
    "#     nota_1 = float(input('Qual foi a sua primeira nota? '))\n",
    "    \n",
    "# nota_2 = float(input('Qual foi a sua segunda nota? '))\n",
    "# while (nota_2 > 10) or (nota_2 < 0):\n",
    "#     nota_2 = float(input('Qual foi a sua segunda nota? '))"
   ]
  },
  {
   "cell_type": "markdown",
   "metadata": {
    "heading_collapsed": true
   },
   "source": [
    "### Exercício 2\n",
    "Escreva um script que leia três números e mostre o maior e o menor deles."
   ]
  },
  {
   "cell_type": "code",
   "execution_count": 12,
   "metadata": {
    "hidden": true
   },
   "outputs": [
    {
     "name": "stdout",
     "output_type": "stream",
     "text": [
      "Digite o primeiro número: 1\n",
      "Digite o segundo número: 4\n",
      "Digite o terceiro número: 4\n",
      "Os dois valores iguais (4.0) são o maior e o menor é o valor 1.0\n"
     ]
    }
   ],
   "source": [
    "primeiro = float(input('Digite o primeiro número: '))\n",
    "segundo = float(input('Digite o segundo número: '))\n",
    "terceiro = float(input('Digite o terceiro número: '))\n",
    "\n",
    "if primeiro == segundo == terceiro:\n",
    "    print(f'Todos os números são iguais e têm valor {primeiro}. Logo, o maior e o menor valor são {primeiro}')\n",
    "elif (primeiro != segundo) and (primeiro != terceiro) and (segundo != terceiro):\n",
    "    if (primeiro > segundo) and (primeiro > terceiro):\n",
    "        maior = primeiro\n",
    "        if segundo > terceiro:\n",
    "            menor = terceiro\n",
    "        else:\n",
    "            menor = segundo\n",
    "        print(f'O maior valor é {maior} e o menor valor é {menor}')\n",
    "    elif (segundo > primeiro) and (segundo > terceiro):\n",
    "        maior = segundo\n",
    "        if primeiro > terceiro:\n",
    "            menor = terceiro\n",
    "        else:\n",
    "            menor = primeiro\n",
    "        print(f'O maior número é o {maior} e o menor é {menor}')\n",
    "    else:\n",
    "        maior = terceiro\n",
    "        if segundo > primeiro:\n",
    "            menor = primeiro\n",
    "        else:\n",
    "            menor = segundo\n",
    "        print(f'O maior valor é {maior} e o menor valor é {menor}')\n",
    "elif (primeiro == segundo) and (terceiro != primeiro):\n",
    "    if primeiro < terceiro:\n",
    "        print(f'O maior valor é o {terceiro}, os outros 2 valores são iguais e têm valor {primeiro}')\n",
    "    else:\n",
    "        print(f'Os dois valores iguais ({primeiro}) são o maior e o menor é o valor {terceiro}')\n",
    "elif (primeiro == terceiro) and (segundo != primeiro):\n",
    "    if primeiro < segundo:\n",
    "        print(f'O maior valor é o {segundo}, os outros 2 valores são iguais e têm valor {primeiro}')\n",
    "    else:\n",
    "        print(f'Os dois valores iguais ({primeiro}) são o maior e o menor é o valor {segundo}')\n",
    "else:\n",
    "    if primeiro > terceiro:\n",
    "        print(f'O maior valor é o {primeiro}, os outros 2 valores são iguais e têm valor {primeiro}')\n",
    "    else:\n",
    "        print(f'Os dois valores iguais ({terceiro}) são o maior e o menor é o valor {primeiro}')"
   ]
  },
  {
   "cell_type": "markdown",
   "metadata": {
    "heading_collapsed": true
   },
   "source": [
    "### Exercício 3 \n",
    "Nome na vertical em escada. \n",
    "\n",
    "F<br>\n",
    "FU<br>\n",
    "FUL<br>\n",
    "FULA<br>\n",
    "FULAN<br>\n",
    "FULANO<br>"
   ]
  },
  {
   "cell_type": "code",
   "execution_count": 17,
   "metadata": {
    "hidden": true
   },
   "outputs": [
    {
     "name": "stdout",
     "output_type": "stream",
     "text": [
      "Qual palavra deseja printar na vertical? fulano\n",
      "\n",
      "F\n",
      "FU\n",
      "FUL\n",
      "FULA\n",
      "FULAN\n",
      "FULANO\n"
     ]
    }
   ],
   "source": [
    "palavra = str(input('Qual palavra deseja printar na vertical? ')).strip().upper()\n",
    "\n",
    "for x in range(0, len(palavra) + 1):\n",
    "    print(palavra[:x])"
   ]
  },
  {
   "cell_type": "markdown",
   "metadata": {
    "heading_collapsed": true
   },
   "source": [
    "### Exercício 4\n",
    "A série de Fibonacci é formada pela seqüência 1,1,2,3,5,8,13,21,34,55,... (o próximo termo, a partir do terceiro, é sempre gerado a partir do somatório dos últimos dois). Faça um programa capaz de gerar a série até o n−ésimo termo (onde o valor n deve ser inserido pelo usuário)."
   ]
  },
  {
   "cell_type": "code",
   "execution_count": 30,
   "metadata": {
    "hidden": true
   },
   "outputs": [
    {
     "name": "stdout",
     "output_type": "stream",
     "text": [
      "Até qual n-ésimo termo deve ser gerado? 10\n",
      "A seguinte lista de números representa a sequência de Fibonacci pedida: 1 1 2 3 5 8 13 21 34 55 "
     ]
    }
   ],
   "source": [
    "enesimo_termo = int(input('Até qual n-ésimo termo deve ser gerado? '))\n",
    "sequencia = [1, 1]\n",
    "novo_termo = sequencia[-1] + sequencia[-2] \n",
    "\n",
    "while len(sequencia) != enesimo_termo:\n",
    "    sequencia.append(novo_termo)\n",
    "    novo_termo = sequencia[-1] + sequencia[-2]\n",
    "    \n",
    "\n",
    "print('A seguinte lista de números representa a sequência de Fibonacci pedida:', end=' ')\n",
    "for x in sequencia:\n",
    "    print(x, end=' ')"
   ]
  },
  {
   "cell_type": "markdown",
   "metadata": {
    "heading_collapsed": true
   },
   "source": [
    "### Exercício 5\n",
    "Faça um programa que leia e valide as seguintes informações:\n",
    "- Nome: maior que 3 caracteres;\n",
    "- Idade: entre 0 e 150;\n",
    "- Salário: maior que zero;\n",
    "- Sexo: 'f' ou 'm';\n",
    "- Estado Civil: 's', 'c', 'v', 'd';"
   ]
  },
  {
   "cell_type": "code",
   "execution_count": 45,
   "metadata": {
    "hidden": true
   },
   "outputs": [
    {
     "name": "stdout",
     "output_type": "stream",
     "text": [
      "Digite um nome: Luiz\n",
      "Digite uma determinada idade: 20\n",
      "Digite um determinado salário: 1329.8\n",
      "Digite um sexo(F, M, O):Masculino\n",
      "Digite um estado civil(S, C, V, D): Solteiro\n",
      "O nome é Luiz, a idade é 20 anos, o salário é de 1329.8 reais. O sexo é M e o estado civil é S\n"
     ]
    }
   ],
   "source": [
    "nome = str(input('Digite um nome: ')).strip().capitalize()\n",
    "\n",
    "while len(nome) <= 3:\n",
    "    nome = str(input('Digite um nome: ')).strip().capitalize()\n",
    "    \n",
    "idade = int(input('Digite uma determinada idade: '))\n",
    "\n",
    "while (0 > idade) or (idade > 150):\n",
    "    idade = int(input('Digite uma determinada idade: '))\n",
    "\n",
    "salario = float(input('Digite um determinado salário: '))\n",
    " \n",
    "while salario <= 0:\n",
    "    salario = float(input('Digite um determinado salário: '))\n",
    "\n",
    "sexo = str(input('Digite um sexo(F, M, O):')).strip().upper()[0]\n",
    "\n",
    "while sexo not in ('FMO'):\n",
    "    sexo = str(input('Digite um sexo(F, M, O):')).strip().upper()[0]\n",
    "    \n",
    "estado_civil = str(input('Digite um estado civil(S, C, V, D): ')).strip().upper()[0]\n",
    "\n",
    "while estado_civil not in ('SCVD'):\n",
    "    estado_civil = str(input('Digite um estado civil(S, C, V, D): ')).strip().upper()[0]\n",
    "    \n",
    "print(f'O nome é {nome}, a idade é {idade} anos, o salário é de {salario} reais. O sexo é {sexo} e o estado civil é {estado_civil}')"
   ]
  },
  {
   "cell_type": "markdown",
   "metadata": {
    "heading_collapsed": true
   },
   "source": [
    "### Exercício 6\n",
    "Faça um programa que peça um número inteiro e determine se ele é ou não um número primo. Um número primo é aquele que é divisível somente por ele mesmo e por 1. \n",
    "Dica: Utilize o operador aritmético `%`, que retorna o resto da divisão de dois números."
   ]
  },
  {
   "cell_type": "code",
   "execution_count": 40,
   "metadata": {
    "hidden": true
   },
   "outputs": [
    {
     "name": "stdout",
     "output_type": "stream",
     "text": [
      "Qual o número que deseja validar se é primo ou não? 2\n",
      "\u001b[34mO número solicitado é um número primo\u001b[m\n"
     ]
    }
   ],
   "source": [
    "numero = int(input('Qual o número que deseja validar se é primo ou não? '))\n",
    "divisores = 0\n",
    "\n",
    "for x in range(1, (numero + 1)):\n",
    "    if numero % x == 0:\n",
    "        divisores += 1\n",
    "        \n",
    "if (divisores) > 2:\n",
    "    print('\\033[31mO número solicitado não é um número primo\\033[m')\n",
    "else:\n",
    "    print('\\033[34mO número solicitado é um número primo\\033[m')\n",
    "        \n",
    "        "
   ]
  }
 ],
 "metadata": {
  "kernelspec": {
   "display_name": "Python 3 (ipykernel)",
   "language": "python",
   "name": "python3"
  },
  "language_info": {
   "codemirror_mode": {
    "name": "ipython",
    "version": 3
   },
   "file_extension": ".py",
   "mimetype": "text/x-python",
   "name": "python",
   "nbconvert_exporter": "python",
   "pygments_lexer": "ipython3",
   "version": "3.10.9"
  }
 },
 "nbformat": 4,
 "nbformat_minor": 4
}
