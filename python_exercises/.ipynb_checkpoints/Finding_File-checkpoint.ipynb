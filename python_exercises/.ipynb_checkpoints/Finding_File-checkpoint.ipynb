{
 "cells": [
  {
   "cell_type": "markdown",
   "id": "418d9b5f",
   "metadata": {},
   "source": [
    "# Finding File"
   ]
  },
  {
   "cell_type": "markdown",
   "id": "df2ddc98",
   "metadata": {},
   "source": [
    "The goal here is to create a python code which can be used to find a file in the User's Home."
   ]
  },
  {
   "cell_type": "markdown",
   "id": "a70dace5",
   "metadata": {},
   "source": [
    "## Functions"
   ]
  },
  {
   "cell_type": "code",
   "execution_count": 3,
   "id": "3568783c",
   "metadata": {},
   "outputs": [
    {
     "name": "stdout",
     "output_type": "stream",
     "text": [
      "example.txt not found in the home directory.\n"
     ]
    }
   ],
   "source": [
    "import os\n",
    "from IPython.display import clear_output\n",
    "import time\n",
    "\n",
    "\n",
    "def LimparTela():\n",
    "    clear_output(wait=True)\n",
    "    time.sleep(1)\n",
    "    \n",
    "    \n",
    "def find_file_in_home(filename):\n",
    "    # Get the user's home directory\n",
    "    home = os.environ.get('HOME') or os.environ.get('USERPROFILE')\n",
    "\n",
    "    if home:\n",
    "        print(f\"Home directory found at: {home}\")\n",
    "        \n",
    "        # List all files and directories in the home directory\n",
    "        print('Listing all files and directories in the home directory')\n",
    "        \n",
    "        LimparTela()\n",
    "        \n",
    "        try:\n",
    "            home_contents = os.listdir(home)\n",
    "        except FileNotFoundError:\n",
    "            print(\"Home directory not found.\")\n",
    "            return\n",
    "        \n",
    "        # Iterate over each file/directory in the home directory\n",
    "        for item in home_contents:\n",
    "            item_path = os.path.join(home, item)\n",
    "            \n",
    "            LimparTela()\n",
    "            \n",
    "            # Check if the item is a directory\n",
    "            if os.path.isdir(item_path):\n",
    "                print(f\"{item} is a directory.\")\n",
    "                try:\n",
    "                    # List files in the directory\n",
    "                    files_in_dir = os.listdir(item_path)\n",
    "                    print(f\"Files in {item}: {files_in_dir}\")\n",
    "                except PermissionError:\n",
    "                    print(f\"No permission to access {item}.\")\n",
    "            \n",
    "            # Check if the item is a file\n",
    "            elif os.path.isfile(item_path):\n",
    "                print(f\"{item} is a file.\")\n",
    "            \n",
    "            # Handle the case where the item is neither file nor directory\n",
    "            else:\n",
    "                print(f\"{item} is neither a file nor a directory.\")\n",
    "    \n",
    "    else:\n",
    "        print(\"Unable to determine the home directory.\")\n",
    "    \n",
    "    LimparTela()\n",
    "    \n",
    "    # Search for the specific file\n",
    "    if filename:\n",
    "        found = False\n",
    "        for root, dirs, files in os.walk(home):\n",
    "            if filename in files:\n",
    "                print(f\"Found {filename} at: {os.path.join(root, filename)}\")\n",
    "                found = True\n",
    "                break\n",
    "        if not found:\n",
    "            print(f\"{filename} not found in the home directory.\")\n",
    "            \n",
    "\n",
    "# Example usage\n",
    "find_file_in_home(\"example.txt\")\n"
   ]
  }
 ],
 "metadata": {
  "kernelspec": {
   "display_name": "Python 3 (ipykernel)",
   "language": "python",
   "name": "python3"
  },
  "language_info": {
   "codemirror_mode": {
    "name": "ipython",
    "version": 3
   },
   "file_extension": ".py",
   "mimetype": "text/x-python",
   "name": "python",
   "nbconvert_exporter": "python",
   "pygments_lexer": "ipython3",
   "version": "3.11.5"
  }
 },
 "nbformat": 4,
 "nbformat_minor": 5
}
