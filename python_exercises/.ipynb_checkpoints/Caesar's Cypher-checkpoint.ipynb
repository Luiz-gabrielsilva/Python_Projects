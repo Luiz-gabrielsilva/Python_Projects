{
 "cells": [
  {
   "cell_type": "markdown",
   "id": "5042d4bb",
   "metadata": {},
   "source": [
    "# Caesar's Ciphar"
   ]
  },
  {
   "cell_type": "markdown",
   "id": "c6f459c7",
   "metadata": {},
   "source": [
    "Crie um código que implemente a Cifra de César, isto é, que transforma um string movendo cada letra um certo número de passos no alfabeto. O número de passos é dado por uma chave. Letras com acentos, espaços e pontuação permanecem iguais.\n",
    "\n",
    "Exemplos:\n",
    "- \"abc\" com chave 1 -> \"bcd\";\n",
    "- \"ABCDE\" com chave 2 -> \"CDEFG\";\n",
    "- \"Cachorro\" com chave -1 -> \"Bzbgnqqn\";\n",
    "- \"Olá Mundo!\" com chave 3 -> \"Roá Pxqgr!\"\n",
    "\n",
    "Dica: construa 2 strings com as letras do alfabeto ordenadas, um para letras maiúsculas e outro para letras maiúsculas."
   ]
  },
  {
   "cell_type": "code",
   "execution_count": null,
   "id": "ade72dde",
   "metadata": {},
   "outputs": [],
   "source": [
    "letras_min = 'abcdefghijklmnopqrstuvwxyz'\n",
    "letras_mais = 'ABCDEFGHIJKLMNOPQRSTUVWXYZ'"
   ]
  },
  {
   "cell_type": "code",
   "execution_count": null,
   "id": "bb662429",
   "metadata": {},
   "outputs": [],
   "source": [
    "frase = str(input(\"Qual a frase selecionada? \")).strip()\n",
    "passo = int(input('Qual a chave selecionada? '))"
   ]
  },
  {
   "cell_type": "code",
   "execution_count": null,
   "id": "67e52eef",
   "metadata": {},
   "outputs": [],
   "source": [
    "frase_nova = ''\n",
    "\n",
    "for x in frase:\n",
    "    \n",
    "    if (x not in letras_mais) and (x not in letras_min):\n",
    "        frase_nova += x\n",
    "    else:\n",
    "        if x in letras_min:\n",
    "            for index, valor in enumerate(letras_min):\n",
    "                if valor == x:\n",
    "                    frase_nova += letras_min[index + passo]\n",
    "\n",
    "        else:\n",
    "            for index, valor in enumerate(letras_mais):\n",
    "                if valor == x:\n",
    "                    frase_nova += letras_mais[index + passo]"
   ]
  },
  {
   "cell_type": "code",
   "execution_count": null,
   "id": "4c4a2fc9",
   "metadata": {},
   "outputs": [],
   "source": [
    "print(f'A frase original é \"{frase}\" e a frase cifrada é \"{frase_nova}\"')"
   ]
  }
 ],
 "metadata": {
  "kernelspec": {
   "display_name": "Python 3 (ipykernel)",
   "language": "python",
   "name": "python3"
  },
  "language_info": {
   "codemirror_mode": {
    "name": "ipython",
    "version": 3
   },
   "file_extension": ".py",
   "mimetype": "text/x-python",
   "name": "python",
   "nbconvert_exporter": "python",
   "pygments_lexer": "ipython3",
   "version": "3.11.5"
  }
 },
 "nbformat": 4,
 "nbformat_minor": 5
}
