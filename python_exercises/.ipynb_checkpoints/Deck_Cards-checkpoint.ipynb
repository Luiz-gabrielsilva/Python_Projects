{
 "cells": [
  {
   "cell_type": "markdown",
   "id": "728f71a1",
   "metadata": {},
   "source": [
    "# Deck Cards"
   ]
  },
  {
   "cell_type": "markdown",
   "id": "1c523d46",
   "metadata": {},
   "source": [
    "Create a code that simulates a deck of cards. The code should contain the following functions:\n",
    "\n",
    "- Generate Deck -> Returns a new deck. Function parameters define how many copies to return (1 deck, 2 decks, ...), whether the deck should contain jokers, whether it should be shuffled or not, whether it should be dealt from the top or bottom.\n",
    "- Show Deck -> Displays the number of cards in the deck and shows what they are.\n",
    "- Deal Cards -> Distributes the cards from the deck among X players, so that each player receives Y cards.\n",
    "- Show Players -> Displays the number of cards in each player's hand and shows what they are.\n",
    "- Tip: Use the following emojis to make it easier -> ♠♣♥♦🃏"
   ]
  },
  {
   "cell_type": "markdown",
   "id": "9c529cd7",
   "metadata": {},
   "source": [
    "## Functions"
   ]
  },
  {
   "cell_type": "code",
   "execution_count": null,
   "id": "3806fe0b",
   "metadata": {},
   "outputs": [],
   "source": [
    "from random import shuffle"
   ]
  },
  {
   "cell_type": "code",
   "execution_count": null,
   "id": "b1ccf932",
   "metadata": {},
   "outputs": [],
   "source": [
    " def generate_deck(copies=2, jokers=True, shuffle_deck=True):\n",
    "        deck = []\n",
    "        \n",
    "        icons = list('♠♣♥♦')\n",
    "        cards = list('AJQK23456789') + ['10']\n",
    "        \n",
    "        for copy in range(copies):\n",
    "            for icon in icons:\n",
    "                for card in cards:\n",
    "                    deck.append(card + icon)\n",
    "\n",
    "        if jokers:\n",
    "            for copy in range(copies):\n",
    "                deck.append('JKR🃏')\n",
    "        \n",
    "        if shuffle_deck:\n",
    "            shuffle(deck)\n",
    "        \n",
    "        return deck"
   ]
  },
  {
   "cell_type": "code",
   "execution_count": null,
   "id": "9dfb7033",
   "metadata": {},
   "outputs": [],
   "source": [
    "def show_deck(deck):\n",
    "    \n",
    "    print(f'There are {len(deck)} cards in this whole deck, summing up {int(len(deck) / 53)} decks of cards.')\n",
    "    print('Deck: ')\n",
    "    print('| '.join(deck))"
   ]
  },
  {
   "cell_type": "code",
   "execution_count": null,
   "id": "00600c39",
   "metadata": {},
   "outputs": [],
   "source": [
    "def create_players(deck, total_players=4, total_cards=9, up=True):\n",
    "    \n",
    "    players = dict()\n",
    "    \n",
    "    for player in range(total_players):\n",
    "        \n",
    "        cards_deck = list()\n",
    "        \n",
    "        if up:\n",
    "            for x in range(total_cards):\n",
    "                cards_deck.append(deck.pop(0))\n",
    "        else:\n",
    "            for x in range(total_cards):\n",
    "                cards_deck.append(deck.pop())\n",
    "                \n",
    "        player_name = str(input('What is the name of the player? ')).strip().capitalize()\n",
    "        players[player_name] = cards_deck\n",
    "        \n",
    "    return players"
   ]
  },
  {
   "cell_type": "code",
   "execution_count": null,
   "id": "485bf9ed",
   "metadata": {},
   "outputs": [],
   "source": [
    "def show_players(players):\n",
    "    \n",
    "    for key, value in players.items():\n",
    "        print(f'The player is {key}: {value}')"
   ]
  },
  {
   "cell_type": "markdown",
   "id": "491bb442",
   "metadata": {},
   "source": [
    "## Main Code"
   ]
  },
  {
   "cell_type": "code",
   "execution_count": null,
   "id": "fb85680a",
   "metadata": {
    "scrolled": true
   },
   "outputs": [],
   "source": [
    "# Basically I am creating the deck of cards here\n",
    "\n",
    "deck = generate_deck(copies=4, jokers=False, shuffle_deck=True)"
   ]
  },
  {
   "cell_type": "code",
   "execution_count": null,
   "id": "275c6079",
   "metadata": {},
   "outputs": [],
   "source": [
    "# Here I am showing this deck\n",
    "\n",
    "show_deck = show_deck(deck)"
   ]
  },
  {
   "cell_type": "code",
   "execution_count": null,
   "id": "e76998cd",
   "metadata": {},
   "outputs": [],
   "source": [
    "# Here I am creating the players\n",
    "\n",
    "players = create_players(deck, total_players=4, total_cards=13, up=False)"
   ]
  },
  {
   "cell_type": "code",
   "execution_count": null,
   "id": "9a4a84ee",
   "metadata": {},
   "outputs": [],
   "source": [
    "# Now I am showing the players and their decks\n",
    "\n",
    "show_players = show_players(players)"
   ]
  }
 ],
 "metadata": {
  "kernelspec": {
   "display_name": "Python 3 (ipykernel)",
   "language": "python",
   "name": "python3"
  },
  "language_info": {
   "codemirror_mode": {
    "name": "ipython",
    "version": 3
   },
   "file_extension": ".py",
   "mimetype": "text/x-python",
   "name": "python",
   "nbconvert_exporter": "python",
   "pygments_lexer": "ipython3",
   "version": "3.11.5"
  }
 },
 "nbformat": 4,
 "nbformat_minor": 5
}
