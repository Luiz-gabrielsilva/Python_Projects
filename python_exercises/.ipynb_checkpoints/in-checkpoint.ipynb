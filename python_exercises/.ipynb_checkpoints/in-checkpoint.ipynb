{
 "cells": [
  {
   "cell_type": "markdown",
   "id": "06cac1c3",
   "metadata": {},
   "source": [
    "# Objetivo"
   ]
  },
  {
   "cell_type": "markdown",
   "id": "e39d91b4",
   "metadata": {},
   "source": [
    "O objetivo desse projeto é gerar um código python que consiga organizar os arquivos de alguém dentro de pastas (que serão criadas) por cada tipo de arquivo existente."
   ]
  },
  {
   "cell_type": "code",
   "execution_count": null,
   "id": "beaae502",
   "metadata": {},
   "outputs": [],
   "source": [
    "import os"
   ]
  },
  {
   "cell_type": "code",
   "execution_count": null,
   "id": "b8283f77",
   "metadata": {},
   "outputs": [],
   "source": [
    "cwd = os.getcwd()"
   ]
  },
  {
   "cell_type": "code",
   "execution_count": null,
   "id": "f7bbf1ee",
   "metadata": {},
   "outputs": [],
   "source": [
    "dir_list = os.listdir(cwd)"
   ]
  },
  {
   "cell_type": "markdown",
   "id": "4fffeb10",
   "metadata": {},
   "source": [
    "<b><i>Agora que eu listei tudo que existe no diretório local, preciso assegurar-me de que os dados que sofrerão alteração são de fato arquivos. Não devo fazer alterações em pastas já existentes.<i/><b/>"
   ]
  },
  {
   "cell_type": "code",
   "execution_count": null,
   "id": "0fb0ae9f",
   "metadata": {},
   "outputs": [],
   "source": [
    "files = [i for i in dir_list if os.path.isfile(i)]"
   ]
  },
  {
   "cell_type": "code",
   "execution_count": null,
   "id": "fa6541d4",
   "metadata": {},
   "outputs": [],
   "source": [
    "file_type = set([j.split('.')[-1] for j in files])"
   ]
  },
  {
   "cell_type": "markdown",
   "id": "7d7cad04",
   "metadata": {},
   "source": [
    "<b><i>Agora que sei os tipos de arquivos existentes, preciso criar diretórios (pastas) correspondentes ao nome de cada tipo de arquivo existente</i></b>"
   ]
  },
  {
   "cell_type": "code",
   "execution_count": null,
   "id": "45d9bd2e",
   "metadata": {},
   "outputs": [],
   "source": [
    "for types in file_type:\n",
    "    os.mkdir(types)"
   ]
  },
  {
   "cell_type": "markdown",
   "id": "7682dca3",
   "metadata": {},
   "source": [
    "<b><i>Agora preciso mover os arquivos para dentro das pastas, isso pode ser feito ao alterar o caminho de cada arquivo individualmente. Ou seja, iterar sobre a lista de arquivos e adicionar a pasta ao cwd de cada um deles</i></b>"
   ]
  },
  {
   "cell_type": "code",
   "execution_count": null,
   "id": "b95e5b76",
   "metadata": {},
   "outputs": [],
   "source": [
    "for file in dir_list:\n",
    "    old_path = os.path.join(cwd, file)\n",
    "    new_path = os.path.join(cwd, file.split('.')[-1], file)\n",
    "    \n",
    "    os.replace(old_path, new_path)"
   ]
  }
 ],
 "metadata": {
  "kernelspec": {
   "display_name": "Python 3 (ipykernel)",
   "language": "python",
   "name": "python3"
  },
  "language_info": {
   "codemirror_mode": {
    "name": "ipython",
    "version": 3
   },
   "file_extension": ".py",
   "mimetype": "text/x-python",
   "name": "python",
   "nbconvert_exporter": "python",
   "pygments_lexer": "ipython3",
   "version": "3.10.9"
  }
 },
 "nbformat": 4,
 "nbformat_minor": 5
}
